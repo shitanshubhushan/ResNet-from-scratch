{
 "cells": [
  {
   "cell_type": "code",
   "execution_count": 122,
   "metadata": {},
   "outputs": [],
   "source": [
    "import torch\n",
    "import torchvision\n",
    "import torchvision.transforms as transforms\n",
    "import torch.nn as nn\n",
    "import torch.optim as optim\n",
    "from torchvision import models"
   ]
  },
  {
   "cell_type": "markdown",
   "metadata": {},
   "source": [
    "## ResNet50 From Scratch"
   ]
  },
  {
   "cell_type": "code",
   "execution_count": 123,
   "metadata": {},
   "outputs": [],
   "source": [
    "class Bottleneck(nn.Module):\n",
    "    def __init__(self, in_channels, intermediate_channels, stride=1, downsample = None):\n",
    "        super().__init__()\n",
    "        self.conv1 = nn.Conv2d(in_channels, intermediate_channels, kernel_size = 1, stride=1, padding=0)\n",
    "        self.bn1 = nn.BatchNorm2d(intermediate_channels)\n",
    "        \n",
    "        self.conv2 = nn.Conv2d(intermediate_channels, intermediate_channels, kernel_size = 3, stride=stride, padding=1)\n",
    "        self.bn2 = nn.BatchNorm2d(intermediate_channels)\n",
    "        \n",
    "        self.conv3 = nn.Conv2d(intermediate_channels, intermediate_channels*4, kernel_size = 1, stride=1, padding=0)\n",
    "        self.bn3 = nn.BatchNorm2d(intermediate_channels*4)\n",
    "\n",
    "        self.downsample = downsample\n",
    "        self.relu = nn.ReLU()\n",
    "    \n",
    "    def forward(self, x):\n",
    "        clone = x.clone()\n",
    "\n",
    "        x = self.relu(self.bn1(self.conv1(x)))\n",
    "        x = self.relu(self.bn2(self.conv2(x)))\n",
    "        x = self.relu(self.bn3(self.conv3(x)))\n",
    "\n",
    "        if self.downsample is not None:\n",
    "            clone = self.downsample(clone)\n",
    "        \n",
    "        x = x + clone\n",
    "        x = self.relu(x)\n",
    "        return x\n",
    "\n",
    "class ResNet50(nn.Module):\n",
    "    def __init__(self, num_classes, num_channels=3):\n",
    "        super().__init__()\n",
    "        self.conv1 = nn.Conv2d(num_channels, 64, 7, stride=2, padding=3)\n",
    "        self.bn1 = nn.BatchNorm2d(64)\n",
    "        self.relu = nn.ReLU()\n",
    "        self.maxpool = nn.MaxPool2d(kernel_size=3, stride=2, padding=1)\n",
    "\n",
    "        layer_channels = [64, 128, 256, 512]\n",
    "        layer_repeats = [3, 4, 6, 3]\n",
    "        self.layer1 = self.layer(64, layer_channels[0], layer_repeats[0], stride = 1)\n",
    "        self.layer2 = self.layer(256, layer_channels[1], layer_repeats[1], stride = 2)\n",
    "        self.layer3 = self.layer(512, layer_channels[2], layer_repeats[2], stride = 2)\n",
    "        self.layer4 = self.layer(1024, layer_channels[3], layer_repeats[3], stride = 2)\n",
    "\n",
    "        self.avgpool = nn.AdaptiveAvgPool2d((1,1))\n",
    "        self.fc = nn.Linear(2048, num_classes)\n",
    "    \n",
    "    def layer(self, in_channels, intermediate_channels, layer_repeats, stride):\n",
    "        layers = []\n",
    "        downsample = None\n",
    "        if stride != 1 or in_channels != intermediate_channels*4:\n",
    "            downsample = nn.Sequential(\n",
    "                nn.Conv2d(in_channels, intermediate_channels*4, kernel_size = 1, stride = stride),\n",
    "                nn.BatchNorm2d(intermediate_channels*4)\n",
    "            )\n",
    "\n",
    "        layers.append(\n",
    "                Bottleneck(in_channels, intermediate_channels, stride, downsample)\n",
    "            )\n",
    "        for _ in range(layer_repeats-1):\n",
    "            layers.append(\n",
    "                Bottleneck(intermediate_channels*4, intermediate_channels)\n",
    "            )\n",
    "        \n",
    "        return nn.Sequential(*layers)\n",
    "\n",
    "\n",
    "    def forward(self, x):\n",
    "        x = self.relu(self.bn1(self.conv1(x)))\n",
    "        x = self.maxpool(x)\n",
    "        x = self.layer1(x)\n",
    "        x = self.layer2(x)\n",
    "        x = self.layer3(x)\n",
    "        x = self.layer4(x)\n",
    "        x = self.avgpool(x)\n",
    "        x = x.view(x.shape[0],x.shape[1])\n",
    "        x = self.fc(x)\n",
    "\n",
    "        return x"
   ]
  },
  {
   "cell_type": "code",
   "execution_count": 124,
   "metadata": {},
   "outputs": [],
   "source": [
    "random_tensor = torch.rand(3, 3, 224, 224)\n",
    "model = ResNet50(10)\n",
    "test = model(random_tensor)"
   ]
  },
  {
   "cell_type": "code",
   "execution_count": 125,
   "metadata": {},
   "outputs": [
    {
     "data": {
      "text/plain": [
       "tensor([[ 1.3789e+00,  6.4588e-01, -2.4217e-01,  8.8851e-01, -5.7838e-01,\n",
       "         -1.2431e+00, -2.2273e+00,  1.2140e+00,  2.0840e-03,  6.2252e-01],\n",
       "        [ 1.2648e+00,  6.0156e-01, -3.3839e-02,  7.6550e-01, -6.9319e-01,\n",
       "         -1.1931e+00, -2.1116e+00,  1.2221e+00, -2.4767e-03,  6.5630e-01],\n",
       "        [ 1.2938e+00,  6.1952e-01, -1.3998e-01,  7.2315e-01, -5.9283e-01,\n",
       "         -1.2762e+00, -2.1429e+00,  1.2448e+00,  1.0386e-02,  6.4930e-01]],\n",
       "       grad_fn=<AddmmBackward0>)"
      ]
     },
     "execution_count": 125,
     "metadata": {},
     "output_type": "execute_result"
    }
   ],
   "source": [
    "test"
   ]
  }
 ],
 "metadata": {
  "kernelspec": {
   "display_name": "Python 3",
   "language": "python",
   "name": "python3"
  },
  "language_info": {
   "codemirror_mode": {
    "name": "ipython",
    "version": 3
   },
   "file_extension": ".py",
   "mimetype": "text/x-python",
   "name": "python",
   "nbconvert_exporter": "python",
   "pygments_lexer": "ipython3",
   "version": "3.11.5"
  }
 },
 "nbformat": 4,
 "nbformat_minor": 2
}
